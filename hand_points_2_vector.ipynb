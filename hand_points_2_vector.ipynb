{
 "cells": [
  {
   "metadata": {
    "ExecuteTime": {
     "end_time": "2024-11-11T23:17:57.145268Z",
     "start_time": "2024-11-11T23:17:57.130183Z"
    }
   },
   "cell_type": "code",
   "source": [
    "import numpy as np\n",
    "import mediapipe as mp\n",
    "import cv2"
   ],
   "id": "c07942165294d61a",
   "outputs": [],
   "execution_count": 4
  },
  {
   "metadata": {
    "ExecuteTime": {
     "end_time": "2024-11-11T23:04:28.742773Z",
     "start_time": "2024-11-11T23:04:28.627017Z"
    }
   },
   "cell_type": "code",
   "source": [
    "mp_hands = mp.solutions.hands\n",
    "hands = mp_hands.Hands()"
   ],
   "id": "b37622dd88e1122c",
   "outputs": [],
   "execution_count": 2
  },
  {
   "metadata": {
    "ExecuteTime": {
     "end_time": "2024-11-11T23:29:37.885175Z",
     "start_time": "2024-11-11T23:29:37.875674Z"
    }
   },
   "cell_type": "code",
   "source": [
    "def landmarks_to_feature_vector(landmarks, additional_features: bool = False) -> np.ndarray:\n",
    "    # Convert landmarks to a list of (x, y, z) tuples\n",
    "    landmarks = [(lm.x, lm.y, lm.z) for lm in landmarks.landmark]\n",
    "    \n",
    "    # Normalize based on wrist and middle finger\n",
    "    wrist = np.array(landmarks[mp_hands.HandLandmark.WRIST])\n",
    "    middle_tip = np.array(landmarks[mp_hands.HandLandmark.MIDDLE_FINGER_MCP])\n",
    "    scale = np.linalg.norm(middle_tip - wrist)\n",
    "\n",
    "    normalized_landmarks = [(lm - wrist) / scale for lm in landmarks]\n",
    "    \n",
    "    # Flatten the coordinates\n",
    "    feature_vector = np.array(normalized_landmarks).flatten()\n",
    "\n",
    "    if additional_features:\n",
    "        # Additional features: distances between thumb tip and other fingertips\n",
    "        thumb_tip = normalized_landmarks[mp_hands.HandLandmark.THUMB_TIP]\n",
    "        finger_tips = [normalized_landmarks[i] for i in [\n",
    "            mp_hands.HandLandmark.INDEX_FINGER_TIP,\n",
    "            mp_hands.HandLandmark.MIDDLE_FINGER_TIP,\n",
    "            mp_hands.HandLandmark.RING_FINGER_TIP,\n",
    "            mp_hands.HandLandmark.PINKY_TIP\n",
    "        ]]\n",
    "        \n",
    "        for fingertip in finger_tips:\n",
    "            distance = np.linalg.norm(thumb_tip - fingertip)\n",
    "            feature_vector = np.append(feature_vector, distance)\n",
    "    \n",
    "    return feature_vector"
   ],
   "id": "79685b4e1dfe49cd",
   "outputs": [],
   "execution_count": 18
  },
  {
   "metadata": {
    "ExecuteTime": {
     "end_time": "2024-11-11T23:27:01.641357Z",
     "start_time": "2024-11-11T23:27:01.597189Z"
    }
   },
   "cell_type": "code",
   "source": [
    "test_img = cv2.imread('./ASL_dataset/asl_alphabet_test/asl_alphabet_test/K_test.jpg')\n",
    "test_img = cv2.cvtColor(test_img, cv2.COLOR_BGR2RGB)\n",
    "landmarks = hands.process(test_img).multi_hand_landmarks[0]\n",
    "landmarks"
   ],
   "id": "bf02482eb76ace3",
   "outputs": [
    {
     "data": {
      "text/plain": [
       "landmark {\n",
       "  x: 0.487440228\n",
       "  y: 0.966851354\n",
       "  z: 1.23281905e-006\n",
       "}\n",
       "landmark {\n",
       "  x: 0.587344766\n",
       "  y: 0.872867167\n",
       "  z: -0.0805802792\n",
       "}\n",
       "landmark {\n",
       "  x: 0.611501217\n",
       "  y: 0.720474303\n",
       "  z: -0.0993674174\n",
       "}\n",
       "landmark {\n",
       "  x: 0.518171966\n",
       "  y: 0.607011318\n",
       "  z: -0.112812519\n",
       "}\n",
       "landmark {\n",
       "  x: 0.441145599\n",
       "  y: 0.517384171\n",
       "  z: -0.120530576\n",
       "}\n",
       "landmark {\n",
       "  x: 0.604262829\n",
       "  y: 0.59546864\n",
       "  z: -0.0142214354\n",
       "}\n",
       "landmark {\n",
       "  x: 0.639508247\n",
       "  y: 0.451204389\n",
       "  z: -0.0496620797\n",
       "}\n",
       "landmark {\n",
       "  x: 0.652320087\n",
       "  y: 0.357407719\n",
       "  z: -0.0734654814\n",
       "}\n",
       "landmark {\n",
       "  x: 0.660554\n",
       "  y: 0.27849\n",
       "  z: -0.0873675644\n",
       "}\n",
       "landmark {\n",
       "  x: 0.507541299\n",
       "  y: 0.606523514\n",
       "  z: -0.00758898724\n",
       "}\n",
       "landmark {\n",
       "  x: 0.478684843\n",
       "  y: 0.444038153\n",
       "  z: -0.0584124625\n",
       "}\n",
       "landmark {\n",
       "  x: 0.456403315\n",
       "  y: 0.341932982\n",
       "  z: -0.0897961333\n",
       "}\n",
       "landmark {\n",
       "  x: 0.434143245\n",
       "  y: 0.260007232\n",
       "  z: -0.0998728424\n",
       "}\n",
       "landmark {\n",
       "  x: 0.426859021\n",
       "  y: 0.652160406\n",
       "  z: -0.0132408636\n",
       "}\n",
       "landmark {\n",
       "  x: 0.404248029\n",
       "  y: 0.573114753\n",
       "  z: -0.116463751\n",
       "}\n",
       "landmark {\n",
       "  x: 0.453160197\n",
       "  y: 0.685197353\n",
       "  z: -0.133194104\n",
       "}\n",
       "landmark {\n",
       "  x: 0.479901463\n",
       "  y: 0.760320187\n",
       "  z: -0.109361611\n",
       "}\n",
       "landmark {\n",
       "  x: 0.355448\n",
       "  y: 0.717127144\n",
       "  z: -0.0227942131\n",
       "}\n",
       "landmark {\n",
       "  x: 0.359267414\n",
       "  y: 0.643517375\n",
       "  z: -0.114712507\n",
       "}\n",
       "landmark {\n",
       "  x: 0.397655219\n",
       "  y: 0.732924759\n",
       "  z: -0.117111869\n",
       "}\n",
       "landmark {\n",
       "  x: 0.416045219\n",
       "  y: 0.799815416\n",
       "  z: -0.0942069665\n",
       "}"
      ]
     },
     "execution_count": 16,
     "metadata": {},
     "output_type": "execute_result"
    }
   ],
   "execution_count": 16
  },
  {
   "metadata": {
    "ExecuteTime": {
     "end_time": "2024-11-11T23:30:40.441348Z",
     "start_time": "2024-11-11T23:30:40.433530Z"
    }
   },
   "cell_type": "code",
   "source": "feature_vector = landmarks_to_feature_vector(landmarks)",
   "id": "3bb9f5e20565472f",
   "outputs": [],
   "execution_count": 21
  },
  {
   "metadata": {
    "ExecuteTime": {
     "end_time": "2024-11-11T23:31:13.568951Z",
     "start_time": "2024-11-11T23:31:13.562990Z"
    }
   },
   "cell_type": "code",
   "source": "feature_vector.shape",
   "id": "d2288f2b9fd0fe94",
   "outputs": [
    {
     "data": {
      "text/plain": [
       "(63,)"
      ]
     },
     "execution_count": 23,
     "metadata": {},
     "output_type": "execute_result"
    }
   ],
   "execution_count": 23
  },
  {
   "metadata": {
    "ExecuteTime": {
     "end_time": "2024-11-11T23:33:29.329895Z",
     "start_time": "2024-11-11T23:33:29.269961Z"
    }
   },
   "cell_type": "code",
   "source": "feature_vector",
   "id": "c16c8f98ed3723f5",
   "outputs": [
    {
     "data": {
      "text/plain": [
       "array([ 0.        ,  0.        ,  0.        ,  0.27676849, -0.26036717,\n",
       "       -0.22323734,  0.34368982, -0.68254562, -0.27528391,  0.08513704,\n",
       "       -0.99687547, -0.31253127, -0.12825138, -1.24517221, -0.33391283,\n",
       "        0.3236371 , -1.0288525 , -0.03940148,  0.42127852, -1.42851201,\n",
       "       -0.13758374,  0.45677154, -1.6883597 , -0.20352701,  0.47958217,\n",
       "       -1.90698776, -0.24204036,  0.05568659, -0.99822685, -0.02102741,\n",
       "       -0.0242553 , -1.44836485, -0.16182518, -0.08598248, -1.73122982,\n",
       "       -0.24876829, -0.14765021, -1.95819114, -0.2766841 , -0.16782991,\n",
       "       -0.87179762, -0.03668497, -0.23046981, -1.09078013, -0.32264638,\n",
       "       -0.09496698, -0.78027439, -0.36899497, -0.02088487, -0.57215939,\n",
       "       -0.30297112, -0.36566195, -0.69181835, -0.0631509 , -0.35508093,\n",
       "       -0.89574167, -0.31779486, -0.24873406, -0.64805375, -0.32444188,\n",
       "       -0.1977877 , -0.46274459, -0.26098776])"
      ]
     },
     "execution_count": 25,
     "metadata": {},
     "output_type": "execute_result"
    }
   ],
   "execution_count": 25
  },
  {
   "metadata": {
    "ExecuteTime": {
     "end_time": "2024-11-11T23:37:19.854600Z",
     "start_time": "2024-11-11T23:37:19.824081Z"
    }
   },
   "cell_type": "code",
   "source": [
    "# unflatten the feature vector\n",
    "landmarks = feature_vector.reshape(-1, 3)\n",
    "landmarks"
   ],
   "id": "f8c4fa270d8f787f",
   "outputs": [
    {
     "data": {
      "text/plain": [
       "array([[ 0.        ,  0.        ,  0.        ],\n",
       "       [ 0.27676849, -0.26036717, -0.22323734],\n",
       "       [ 0.34368982, -0.68254562, -0.27528391],\n",
       "       [ 0.08513704, -0.99687547, -0.31253127],\n",
       "       [-0.12825138, -1.24517221, -0.33391283],\n",
       "       [ 0.3236371 , -1.0288525 , -0.03940148],\n",
       "       [ 0.42127852, -1.42851201, -0.13758374],\n",
       "       [ 0.45677154, -1.6883597 , -0.20352701],\n",
       "       [ 0.47958217, -1.90698776, -0.24204036],\n",
       "       [ 0.05568659, -0.99822685, -0.02102741],\n",
       "       [-0.0242553 , -1.44836485, -0.16182518],\n",
       "       [-0.08598248, -1.73122982, -0.24876829],\n",
       "       [-0.14765021, -1.95819114, -0.2766841 ],\n",
       "       [-0.16782991, -0.87179762, -0.03668497],\n",
       "       [-0.23046981, -1.09078013, -0.32264638],\n",
       "       [-0.09496698, -0.78027439, -0.36899497],\n",
       "       [-0.02088487, -0.57215939, -0.30297112],\n",
       "       [-0.36566195, -0.69181835, -0.0631509 ],\n",
       "       [-0.35508093, -0.89574167, -0.31779486],\n",
       "       [-0.24873406, -0.64805375, -0.32444188],\n",
       "       [-0.1977877 , -0.46274459, -0.26098776]])"
      ]
     },
     "execution_count": 26,
     "metadata": {},
     "output_type": "execute_result"
    }
   ],
   "execution_count": 26
  }
 ],
 "metadata": {
  "kernelspec": {
   "display_name": "Python 3",
   "language": "python",
   "name": "python3"
  },
  "language_info": {
   "codemirror_mode": {
    "name": "ipython",
    "version": 2
   },
   "file_extension": ".py",
   "mimetype": "text/x-python",
   "name": "python",
   "nbconvert_exporter": "python",
   "pygments_lexer": "ipython2",
   "version": "2.7.6"
  }
 },
 "nbformat": 4,
 "nbformat_minor": 5
}
